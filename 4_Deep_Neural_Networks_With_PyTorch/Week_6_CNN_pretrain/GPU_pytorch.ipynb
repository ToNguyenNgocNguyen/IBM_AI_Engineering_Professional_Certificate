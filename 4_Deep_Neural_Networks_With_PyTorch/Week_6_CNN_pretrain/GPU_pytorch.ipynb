{
 "cells": [
  {
   "cell_type": "code",
   "execution_count": 1,
   "metadata": {},
   "outputs": [
    {
     "name": "stdout",
     "output_type": "stream",
     "text": [
      "nvcc: NVIDIA (R) Cuda compiler driver\n",
      "Copyright (c) 2005-2022 NVIDIA Corporation\n",
      "Built on Tue_May__3_19:00:59_Pacific_Daylight_Time_2022\n",
      "Cuda compilation tools, release 11.7, V11.7.64\n",
      "Build cuda_11.7.r11.7/compiler.31294372_0\n"
     ]
    }
   ],
   "source": [
    "!nvcc --version"
   ]
  },
  {
   "cell_type": "code",
   "execution_count": 2,
   "metadata": {},
   "outputs": [
    {
     "name": "stdout",
     "output_type": "stream",
     "text": [
      "Sun Jul  9 17:39:29 2023       \n",
      "+-----------------------------------------------------------------------------+\n",
      "| NVIDIA-SMI 516.01       Driver Version: 516.01       CUDA Version: 11.7     |\n",
      "|-------------------------------+----------------------+----------------------+\n",
      "| GPU  Name            TCC/WDDM | Bus-Id        Disp.A | Volatile Uncorr. ECC |\n",
      "| Fan  Temp  Perf  Pwr:Usage/Cap|         Memory-Usage | GPU-Util  Compute M. |\n",
      "|                               |                      |               MIG M. |\n",
      "|===============================+======================+======================|\n",
      "|   0  NVIDIA GeForce ... WDDM  | 00000000:01:00.0 Off |                  N/A |\n",
      "| N/A   54C    P0    13W /  N/A |      0MiB /  4096MiB |      0%      Default |\n",
      "|                               |                      |                  N/A |\n",
      "+-------------------------------+----------------------+----------------------+\n",
      "                                                                               \n",
      "+-----------------------------------------------------------------------------+\n",
      "| Processes:                                                                  |\n",
      "|  GPU   GI   CI        PID   Type   Process name                  GPU Memory |\n",
      "|        ID   ID                                                   Usage      |\n",
      "|=============================================================================|\n",
      "|  No running processes found                                                 |\n",
      "+-----------------------------------------------------------------------------+\n"
     ]
    }
   ],
   "source": [
    "!nvidia-smi"
   ]
  },
  {
   "cell_type": "code",
   "execution_count": 3,
   "metadata": {},
   "outputs": [
    {
     "name": "stdout",
     "output_type": "stream",
     "text": [
      "Collecting environment information...\n",
      "PyTorch version: 2.0.1+cu117\n",
      "Is debug build: False\n",
      "CUDA used to build PyTorch: 11.7\n",
      "ROCM used to build PyTorch: N/A\n",
      "\n",
      "OS: Microsoft Windows 11 Home Single Language\n",
      "GCC version: (tdm64-1) 10.3.0\n",
      "\n",
      "Clang version: Could not collect\n",
      "CMake version: version 3.26.0-rc3\n",
      "Libc version: N/A\n",
      "\n",
      "Python version: 3.10.12 | packaged by conda-forge | (main, Jun 23 2023, 22:34:57) [MSC v.1936 64 bit (AMD64)] (64-bit runtime)\n",
      "Python platform: Windows-10-10.0.22621\n",
      "Is CUDA available: True\n",
      "CUDA runtime version: 11.7.64\n",
      "\n",
      "CUDA_MODULE_LOADING set to: LAZY\n",
      "GPU models and configuration: GPU 0: NVIDIA GeForce RTX 3050 Laptop GPU\n",
      "Nvidia driver version: 516.01\n",
      "cuDNN version: C:\\Program Files\\NVIDIA GPU Computing Toolkit\\CUDA\\v11.7\\bin\\cudnn_ops_train64_8.dll\n",
      "HIP runtime version: N/A\n",
      "MIOpen runtime version: N/A\n",
      "Is XNNPACK available: True\n",
      "\n",
      "CPU:\n",
      "Architecture=9\n",
      "\n",
      "\n",
      "CurrentClockSpeed=2688\n",
      "\n",
      "\n",
      "DeviceID=CPU0\n",
      "\n",
      "\n",
      "Family=205\n",
      "\n",
      "\n",
      "L2CacheSize=7680\n",
      "\n",
      "\n",
      "L2CacheSpeed=\n",
      "\n",
      "\n",
      "Manufacturer=GenuineIntel\n",
      "\n",
      "\n",
      "MaxClockSpeed=2688\n",
      "\n",
      "\n",
      "Name=11th Gen Intel(R) Core(TM) i5-11400H @ 2.70GHz\n",
      "\n",
      "\n",
      "ProcessorType=3\n",
      "\n",
      "\n",
      "Revision=\n",
      "\n",
      "Versions of relevant libraries:\n",
      "[pip3] numpy==1.24.1\n",
      "[pip3] torch==2.0.1+cu117\n",
      "[pip3] torchaudio==2.0.2+cu117\n",
      "[pip3] torchvision==0.15.2+cu117\n",
      "[conda] blas                      1.0                         mkl  \n",
      "[conda] cudatoolkit               11.7.0              h74894db_11    conda-forge\n",
      "[conda] mkl                       2023.1.0         h6a75c08_48682    conda-forge\n",
      "[conda] mkl-service               2.4.0           py310h2bbff1b_1  \n",
      "[conda] numpy                     1.24.1                   pypi_0    pypi\n",
      "[conda] pytorch                   2.0.1           cpu_py310hb0bdfb8_0  \n",
      "[conda] torch                     2.0.1+cu117              pypi_0    pypi\n",
      "[conda] torchaudio                2.0.2+cu117              pypi_0    pypi\n",
      "[conda] torchvision               0.15.2+cu117             pypi_0    pypi\n"
     ]
    }
   ],
   "source": [
    "!python -m torch.utils.collect_env"
   ]
  },
  {
   "cell_type": "code",
   "execution_count": 4,
   "metadata": {},
   "outputs": [],
   "source": [
    "import torch\n",
    "from torchvision import datasets\n",
    "from torch import nn, optim\n",
    "from torch.nn import functional as F\n",
    "from torch.utils.data import DataLoader, ConcatDataset, random_split, Dataset, Subset\n",
    "from torchvision import transforms\n",
    "from tqdm import tqdm, trange\n",
    "import numpy as np\n",
    "import matplotlib.pylab as plt\n",
    "import seaborn as sns"
   ]
  },
  {
   "cell_type": "code",
   "execution_count": 5,
   "metadata": {},
   "outputs": [
    {
     "name": "stdout",
     "output_type": "stream",
     "text": [
      "True\n",
      "True\n"
     ]
    }
   ],
   "source": [
    "print(torch.cuda.is_available())\n",
    "print(torch.backends.cudnn.enabled)"
   ]
  },
  {
   "cell_type": "code",
   "execution_count": 6,
   "metadata": {},
   "outputs": [
    {
     "name": "stdout",
     "output_type": "stream",
     "text": [
      "cuda\n",
      "1\n",
      "0\n",
      "NVIDIA GeForce RTX 3050 Laptop GPU\n"
     ]
    }
   ],
   "source": [
    "device = torch.device('cuda' if torch.cuda.is_available() else 'cpu')\n",
    "print(device)\n",
    "print(torch.cuda.device_count())\n",
    "print(torch.cuda.current_device())\n",
    "print(torch.cuda.get_device_name(0))"
   ]
  },
  {
   "cell_type": "code",
   "execution_count": 7,
   "metadata": {},
   "outputs": [],
   "source": [
    "class TransformDataset(Dataset):\n",
    "    def __init__(self, subset, transform=None):\n",
    "        super(TransformDataset, self).__init__()\n",
    "        self.subset = subset\n",
    "        self.transform = transform\n",
    "        \n",
    "    def __getitem__(self, index):\n",
    "        x, y = self.subset[index]\n",
    "        if self.transform:\n",
    "            x = self.transform(x)\n",
    "        return x, y\n",
    "        \n",
    "    def __len__(self):\n",
    "        return len(self.subset)"
   ]
  },
  {
   "cell_type": "code",
   "execution_count": 8,
   "metadata": {},
   "outputs": [
    {
     "name": "stdout",
     "output_type": "stream",
     "text": [
      "455\n"
     ]
    }
   ],
   "source": [
    "data = datasets.ImageFolder('celeb/')\n",
    "print(len(data))"
   ]
  },
  {
   "cell_type": "code",
   "execution_count": 9,
   "metadata": {},
   "outputs": [
    {
     "name": "stdout",
     "output_type": "stream",
     "text": [
      "train_target: {'A': 22, 'B': 82, 'C': 44, 'D': 22, 'E': 47, 'F': 42, 'G': 42, 'H': 38, 'I': 74, 'J': 42}\n"
     ]
    },
    {
     "data": {
      "image/png": "[encoded data removed]",
      "text/plain": [
       "<Figure size 640x480 with 1 Axes>"
      ]
     },
     "metadata": {},
     "output_type": "display_data"
    }
   ],
   "source": [
    "labels, counts = np.unique(data.targets, return_counts=True)\n",
    "print('train_target:', dict(zip(list(data.class_to_idx), counts)))\n",
    "sns.barplot(x=labels, y=counts, saturation=10)\n",
    "sns.set_style('dark')\n",
    "sns.set_theme('talk')\n",
    "plt.xticks(labels, list(data.class_to_idx))\n",
    "plt.show()"
   ]
  },
  {
   "cell_type": "code",
   "execution_count": 10,
   "metadata": {},
   "outputs": [],
   "source": [
    "from sklearn.model_selection import train_test_split\n",
    "\n",
    "train_val_idx, test_idx = train_test_split(range(len(data)), test_size=0.1, stratify=data.targets, shuffle=True)\n",
    "train_val_data = Subset(dataset=data, indices=train_val_idx)\n",
    "test_data = Subset(dataset=data, indices=test_idx)"
   ]
  },
  {
   "cell_type": "code",
   "execution_count": 11,
   "metadata": {},
   "outputs": [],
   "source": [
    "train_idx, val_idx = train_test_split(range(len(train_val_data)), test_size=0.1, stratify=list(map(lambda x: data.targets[x], train_val_idx)), shuffle=True)\n",
    "train_data = Subset(dataset=train_val_data, indices=train_idx)\n",
    "val_data = Subset(dataset=train_val_data, indices=val_idx)"
   ]
  },
  {
   "cell_type": "code",
   "execution_count": 12,
   "metadata": {},
   "outputs": [],
   "source": [
    "def Upsample(scale=1):\n",
    "    dict_train = dict(zip(*np.unique([train_data[i][1] for i in range(len(train_data))], return_counts=True)))\n",
    "    list_add = []\n",
    "    c_max = max(dict_train.values())\n",
    "    for l, c in dict_train.items():\n",
    "        n_data = scale*c_max - c\n",
    "        count = 0\n",
    "        while count < n_data:\n",
    "            for tup in train_data:\n",
    "                r = np.random.randint(2)\n",
    "                if tup[1] == l and r==0:\n",
    "                    list_add.append(tup)\n",
    "                    count += 1\n",
    "                if count == n_data:\n",
    "                    break\n",
    "    return list_add"
   ]
  },
  {
   "cell_type": "code",
   "execution_count": 13,
   "metadata": {},
   "outputs": [
    {
     "data": {
      "text/plain": [
       "{0: 67, 1: 67, 2: 67, 3: 67, 4: 67, 5: 67, 6: 67, 7: 67, 8: 67, 9: 67}"
      ]
     },
     "execution_count": 13,
     "metadata": {},
     "output_type": "execute_result"
    }
   ],
   "source": [
    "train_data = train_data.__add__(Upsample())\n",
    "dict_train = dict(zip(*np.unique([train_data[i][1] for i in range(len(train_data))], return_counts=True)))\n",
    "dict_train"
   ]
  },
  {
   "cell_type": "code",
   "execution_count": 14,
   "metadata": {},
   "outputs": [],
   "source": [
    "transformer_train = transforms.Compose([transforms.Resize((128, 128)), transforms.RandomRotation((-10, 10)), transforms.ToTensor()])\n",
    "transformer_val_test = transforms.Compose([transforms.Resize((128, 128)), transforms.ToTensor()])"
   ]
  },
  {
   "cell_type": "code",
   "execution_count": 15,
   "metadata": {},
   "outputs": [],
   "source": [
    "up_scale_train = 1\n",
    "up_scale_val = 1\n",
    "up_scale_test = 1\n",
    "\n",
    "train_data = TransformDataset(subset=ConcatDataset([train_data for _ in range(up_scale_train)]), transform=transformer_train)\n",
    "val_data = TransformDataset(subset=ConcatDataset([val_data for _ in range(up_scale_val)]), transform=transformer_val_test)\n",
    "test_data = TransformDataset(subset=ConcatDataset([test_data for _ in range(up_scale_test)]), transform=transformer_val_test)"
   ]
  },
  {
   "cell_type": "code",
   "execution_count": 16,
   "metadata": {},
   "outputs": [
    {
     "name": "stdout",
     "output_type": "stream",
     "text": [
      "train: 670\n",
      "val: 41\n",
      "test: 46\n",
      "total dataset: 757\n"
     ]
    }
   ],
   "source": [
    "print('train:', len(train_data))\n",
    "print('val:', len(val_data))\n",
    "print('test:', len(test_data))\n",
    "print('total dataset:', len(train_data) + len(val_data) + len(test_data))"
   ]
  },
  {
   "cell_type": "code",
   "execution_count": 17,
   "metadata": {},
   "outputs": [],
   "source": [
    "class MyCNN(nn.Module):\n",
    "        def __init__(self, in_channel, out_channel, n_classes=10):\n",
    "            super(MyCNN, self).__init__()\n",
    "\n",
    "            self.conv1 = nn.Conv2d(in_channel, 32, 3)\n",
    "            nn.init.kaiming_normal_(self.conv1.weight, nonlinearity='relu')\n",
    "            self.dropout1 = nn.Dropout2d(0.5)\n",
    "\n",
    "            self.batch1 = nn.BatchNorm2d(32)\n",
    "            self.maxpooling1 = nn.MaxPool2d(3)\n",
    "\n",
    "            self.conv2 = nn.Conv2d(32, 64, 3)\n",
    "            nn.init.kaiming_normal_(self.conv2.weight, nonlinearity='relu')\n",
    "            self.dropout2 = nn.Dropout2d(0.5)\n",
    "\n",
    "            self.batch2 = nn.BatchNorm2d(64)\n",
    "            self.maxpooling2 = nn.MaxPool2d(3)\n",
    "\n",
    "            self.fc1 = nn.Linear(out_channel * 13 * 13, n_classes)\n",
    "\n",
    "        def forward(self, x):\n",
    "            x = F.relu(self.conv1(x))\n",
    "            x = self.dropout1(x)\n",
    "            # print(x.shape)\n",
    "            x = self.batch1(x)\n",
    "            # print(x.shape)\n",
    "            x = self.maxpooling1(x)\n",
    "            # print(x.shape)\n",
    "            x = F.relu(self.conv2(x))\n",
    "            x = self.dropout2(x)\n",
    "            # print(x.shape)\n",
    "            x = self.batch2(x)\n",
    "            # print(x.shape)\n",
    "            x = self.maxpooling2(x)\n",
    "            # print(x.shape)\n",
    "            out = self.fc1(x.view(x.size(0), -1))\n",
    "            # print(out.shape)\n",
    "            return out"
   ]
  },
  {
   "cell_type": "code",
   "execution_count": 18,
   "metadata": {},
   "outputs": [
    {
     "name": "stdout",
     "output_type": "stream",
     "text": [
      "torch.return_types.max(\n",
      "values=tensor([0.6113], device='cuda:0', grad_fn=<MaxBackward0>),\n",
      "indices=tensor([5], device='cuda:0'))\n",
      "MyCNN(\n",
      "  (conv1): Conv2d(3, 32, kernel_size=(3, 3), stride=(1, 1))\n",
      "  (dropout1): Dropout2d(p=0.5, inplace=False)\n",
      "  (batch1): BatchNorm2d(32, eps=1e-05, momentum=0.1, affine=True, track_running_stats=True)\n",
      "  (maxpooling1): MaxPool2d(kernel_size=3, stride=3, padding=0, dilation=1, ceil_mode=False)\n",
      "  (conv2): Conv2d(32, 64, kernel_size=(3, 3), stride=(1, 1))\n",
      "  (dropout2): Dropout2d(p=0.5, inplace=False)\n",
      "  (batch2): BatchNorm2d(64, eps=1e-05, momentum=0.1, affine=True, track_running_stats=True)\n",
      "  (maxpooling2): MaxPool2d(kernel_size=3, stride=3, padding=0, dilation=1, ceil_mode=False)\n",
      "  (fc1): Linear(in_features=10816, out_features=10, bias=True)\n",
      ")\n"
     ]
    }
   ],
   "source": [
    "mycnn = MyCNN(in_channel=3, out_channel=64).to(device)\n",
    "print(torch.max(mycnn(train_data[0][0].reshape(1, 3, 128, 128).to(device)), dim=-1))\n",
    "print(mycnn)"
   ]
  },
  {
   "cell_type": "code",
   "execution_count": 19,
   "metadata": {},
   "outputs": [],
   "source": [
    "optimzer = optim.Adam(params=mycnn.parameters(), lr=0.001)\n",
    "criterion = nn.CrossEntropyLoss()\n",
    "\n",
    "def my_train(model, optimizer, criterion, train, val, batch_size, shuffle=True, epochs=1):\n",
    "    trainloader = DataLoader(dataset=train, batch_size=batch_size, shuffle=shuffle)\n",
    "    valloader = DataLoader(dataset=val, batch_size=batch_size, shuffle=shuffle)\n",
    "    batches_per_epoch = len(trainloader)\n",
    "    history = {'train_acc':[],\n",
    "               'train_loss':[],\n",
    "               'val_acc':[]}\n",
    "    for epoch in tqdm(range(epochs)):\n",
    "        with trange(batches_per_epoch, unit='batch') as pbar:\n",
    "            pbar.set_description(f'{epoch + 1} epoch(s)')\n",
    "            \n",
    "            # train mode\n",
    "            train_loss = 0\n",
    "            train_acc = 0\n",
    "            model.train()\n",
    "            for x, y in trainloader:\n",
    "                optimizer.zero_grad()\n",
    "                x, y = x.to(device), y.to(device)\n",
    "                yhat = model(x)\n",
    "                _, label = torch.max(yhat, dim=-1)\n",
    "                loss = criterion(yhat, y)\n",
    "                loss.backward()\n",
    "                optimizer.step()\n",
    "                train_loss += loss.item()\n",
    "                train_acc += (label==y).sum().item()\n",
    "                pbar.update()\n",
    "\n",
    "            train_acc = round(train_acc/len(train), 3)\n",
    "            history['train_loss'].append(loss)\n",
    "            history['train_acc'].append(train_acc)\n",
    "\n",
    "            # eval mode\n",
    "            val_acc = 0\n",
    "            model.eval()\n",
    "            for x, y in valloader:\n",
    "                x, y = x.to(device), y.to(device)\n",
    "                _, label = torch.max(model(x), dim=-1)\n",
    "                val_acc += (label==y).sum().item()\n",
    "\n",
    "            val_acc = val_acc/len(val)\n",
    "            history['val_acc'].append(val_acc)\n",
    "\n",
    "            pbar.set_postfix_str(f'train_loss: {train_loss} train_acc: {train_acc} val_acc: {val_acc}')\n"
   ]
  },
  {
   "cell_type": "code",
   "execution_count": 20,
   "metadata": {},
   "outputs": [
    {
     "name": "stderr",
     "output_type": "stream",
     "text": [
      "1 epoch(s): 100%|██████████| 21/21 [00:01<00:00, 14.91batch/s, train_loss: 80.90040326118469 train_acc: 0.201 val_acc: 0.21951219512195122]\n",
      "2 epoch(s): 100%|██████████| 21/21 [00:01<00:00, 20.04batch/s, train_loss: 55.75373411178589 train_acc: 0.382 val_acc: 0.3902439024390244]\n",
      "3 epoch(s): 100%|██████████| 21/21 [00:01<00:00, 19.80batch/s, train_loss: 43.01924967765808 train_acc: 0.479 val_acc: 0.4634146341463415]\n",
      "4 epoch(s): 100%|██████████| 21/21 [00:01<00:00, 20.05batch/s, train_loss: 33.08024334907532 train_acc: 0.585 val_acc: 0.4634146341463415]\n",
      "5 epoch(s): 100%|██████████| 21/21 [00:01<00:00, 20.05batch/s, train_loss: 27.804412007331848 train_acc: 0.633 val_acc: 0.43902439024390244]\n",
      "6 epoch(s): 100%|██████████| 21/21 [00:01<00:00, 20.32batch/s, train_loss: 25.701451361179352 train_acc: 0.657 val_acc: 0.4634146341463415]\n",
      "7 epoch(s): 100%|██████████| 21/21 [00:01<00:00, 20.33batch/s, train_loss: 22.36779636144638 train_acc: 0.699 val_acc: 0.5609756097560976]\n",
      "8 epoch(s): 100%|██████████| 21/21 [00:01<00:00, 20.15batch/s, train_loss: 19.98780408501625 train_acc: 0.728 val_acc: 0.5365853658536586]\n",
      "9 epoch(s): 100%|██████████| 21/21 [00:01<00:00, 20.20batch/s, train_loss: 17.471638649702072 train_acc: 0.73 val_acc: 0.5853658536585366]\n",
      "10 epoch(s): 100%|██████████| 21/21 [00:01<00:00, 20.28batch/s, train_loss: 15.902010023593903 train_acc: 0.758 val_acc: 0.5853658536585366]\n",
      "100%|██████████| 10/10 [00:10<00:00,  1.08s/it]\n"
     ]
    }
   ],
   "source": [
    "my_history = my_train(mycnn, optimzer, criterion, train_data, val_data, batch_size=32, shuffle=True, epochs=10)"
   ]
  },
  {
   "cell_type": "code",
   "execution_count": 21,
   "metadata": {},
   "outputs": [],
   "source": [
    "testloader = next(iter(DataLoader(dataset=test_data, batch_size=len(test_data), shuffle=True)))\n",
    "X_test = testloader[0].to(device)\n",
    "y_test = testloader[1].to(device)"
   ]
  },
  {
   "cell_type": "code",
   "execution_count": 22,
   "metadata": {},
   "outputs": [],
   "source": [
    "mycnn.eval()\n",
    "_, label = torch.max(mycnn(X_test), dim=-1)"
   ]
  },
  {
   "cell_type": "code",
   "execution_count": 23,
   "metadata": {},
   "outputs": [
    {
     "name": "stdout",
     "output_type": "stream",
     "text": [
      "test acc: 0.5217391304347826\n"
     ]
    }
   ],
   "source": [
    "print('test acc:', (label == y_test).sum().item()/len(y_test)) "
   ]
  },
  {
   "cell_type": "code",
   "execution_count": 24,
   "metadata": {},
   "outputs": [
    {
     "name": "stdout",
     "output_type": "stream",
     "text": [
      "MyCNN(\n",
      "  (conv1): Conv2d(3, 32, kernel_size=(3, 3), stride=(1, 1))\n",
      "  (dropout1): Dropout2d(p=0.5, inplace=False)\n",
      "  (batch1): BatchNorm2d(32, eps=1e-05, momentum=0.1, affine=True, track_running_stats=True)\n",
      "  (maxpooling1): MaxPool2d(kernel_size=3, stride=3, padding=0, dilation=1, ceil_mode=False)\n",
      "  (conv2): Conv2d(32, 64, kernel_size=(3, 3), stride=(1, 1))\n",
      "  (dropout2): Dropout2d(p=0.5, inplace=False)\n",
      "  (batch2): BatchNorm2d(64, eps=1e-05, momentum=0.1, affine=True, track_running_stats=True)\n",
      "  (maxpooling2): MaxPool2d(kernel_size=3, stride=3, padding=0, dilation=1, ceil_mode=False)\n",
      "  (fc1): Linear(in_features=10816, out_features=10, bias=True)\n",
      ")\n"
     ]
    }
   ],
   "source": [
    "print(mycnn)"
   ]
  }
 ],
 "metadata": {
  "kernelspec": {
   "display_name": "MyPythonEnv",
   "language": "python",
   "name": "python3"
  },
  "language_info": {
   "codemirror_mode": {
    "name": "ipython",
    "version": 3
   },
   "file_extension": ".py",
   "mimetype": "text/x-python",
   "name": "python",
   "nbconvert_exporter": "python",
   "pygments_lexer": "ipython3",
   "version": "3.10.12"
  },
  "orig_nbformat": 4
 },
 "nbformat": 4,
 "nbformat_minor": 2
}
